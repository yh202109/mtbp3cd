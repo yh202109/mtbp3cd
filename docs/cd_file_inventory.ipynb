{
    "cells": [
        {
            "cell_type": "markdown",
            "metadata": {},
            "source": [
                "# cd/Folder Snapshot\n",
                "\n",
                "A quick tool to generate file list without other installations."
            ]
        },
        {
            "cell_type": "markdown",
            "metadata": {},
            "source": [
                "To start the app from `Python` environment: "
            ]
        },
        {
            "cell_type": "markdown",
            "metadata": {
                "vscode": {
                    "languageId": "plaintext"
                }
            },
            "source": [
                "```python\n",
                "import sys, mtbp3cd\n",
                "from PyQt6.QtWidgets import QApplication\n",
                "\n",
                "app = QApplication(sys.argv)\n",
                "windows = mtbp3cd.gui.FileInventoryApp()\n",
                "window.show() \n",
                "sys.exit(app.exec())\n",
                "```"
            ]
        },
        {
            "cell_type": "markdown",
            "metadata": {},
            "source": [
                "To start, select an output folder:\n",
                "\n",
                "![demo1](_static/img/demo1.jpeg)"
            ]
        },
        {
            "cell_type": "markdown",
            "metadata": {},
            "source": [
                "To select the folder that includes data files:\n",
                "\n",
                "![demo2](_static/img/demo2.jpeg)"
            ]
        },
        {
            "cell_type": "markdown",
            "metadata": {},
            "source": [
                "To select existing checksum file, use the ``select`` button. To check the input folder, use the ``check`` button:\n",
                "\n",
                "![demo3](_static/img/demo3.jpeg)"
            ]
        }
    ],
    "metadata": {
        "kernelspec": {
            "display_name": "Python 3",
            "language": "python",
            "name": "python3"
        },
        "language_info": {
            "codemirror_mode": {
                "name": "ipython",
                "version": 3
            },
            "file_extension": ".py",
            "mimetype": "text/x-python",
            "name": "python",
            "nbconvert_exporter": "python",
            "pygments_lexer": "ipython3",
            "version": "3.10.13"
        }
    },
    "nbformat": 4,
    "nbformat_minor": 4
}
